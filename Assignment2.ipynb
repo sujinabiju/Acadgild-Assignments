{
 "cells": [
  {
   "cell_type": "code",
   "execution_count": 7,
   "metadata": {},
   "outputs": [
    {
     "name": "stdout",
     "output_type": "stream",
     "text": [
      "The sum of numbers in the list [10, 25, 36, 87] is 158\n"
     ]
    }
   ],
   "source": [
    "def myreduce(li):\n",
    "    sum=0\n",
    "    for n in li:\n",
    "        sum +=n\n",
    "    print(\"The sum of numbers in the list {0} is {1}\".format(li,sum))\n",
    "   \n",
    "    \n",
    "my_list=[10,25,36,87]\n",
    "myreduce(my_list)\n",
    "        "
   ]
  },
  {
   "cell_type": "code",
   "execution_count": 9,
   "metadata": {},
   "outputs": [
    {
     "name": "stdout",
     "output_type": "stream",
     "text": [
      "[0, 2, 4, 6, 8, 10, 12, 14, 16, 18]\n"
     ]
    }
   ],
   "source": [
    "def myfilter(li):\n",
    "    new_list=[]\n",
    "    for n in li:\n",
    "        if(n%2==0):\n",
    "            new_list.append(n)\n",
    "    print(new_list)\n",
    "li=list(range(20))\n",
    "myfilter(li)\n",
    "            "
   ]
  },
  {
   "cell_type": "code",
   "execution_count": 11,
   "metadata": {},
   "outputs": [
    {
     "data": {
      "text/plain": [
       "['A', 'C', 'A', 'D', 'G', 'I', 'L', 'D']"
      ]
     },
     "execution_count": 11,
     "metadata": {},
     "output_type": "execute_result"
    }
   ],
   "source": [
    "my_str=\"Acadgild\"\n",
    "my_str=my_str.casefold()\n",
    "[l.upper() for l in my_str]"
   ]
  },
  {
   "cell_type": "code",
   "execution_count": 13,
   "metadata": {},
   "outputs": [
    {
     "data": {
      "text/plain": [
       "['x', 'xx', 'xxx', 'xxxx', 'y', 'yy', 'yyy', 'yyyy', 'z', 'zz', 'zzz', 'zzzz']"
      ]
     },
     "execution_count": 13,
     "metadata": {},
     "output_type": "execute_result"
    }
   ],
   "source": [
    "str1=\"xyz\"\n",
    "[li*i for li in str1 for i in range(1,5)]"
   ]
  },
  {
   "cell_type": "code",
   "execution_count": 14,
   "metadata": {},
   "outputs": [
    {
     "data": {
      "text/plain": [
       "['x', 'y', 'z', 'xx', 'yy', 'zz', 'xxx', 'yyy', 'zzz', 'xxxx', 'yyyy', 'zzzz']"
      ]
     },
     "execution_count": 14,
     "metadata": {},
     "output_type": "execute_result"
    }
   ],
   "source": [
    "str2=\"xyz\"\n",
    "[li*i for i in range(1,5) for li in str2]"
   ]
  },
  {
   "cell_type": "code",
   "execution_count": 25,
   "metadata": {},
   "outputs": [
    {
     "data": {
      "text/plain": [
       "[[2], [3], [4], [3], [4], [5], [4], [5], [6]]"
      ]
     },
     "execution_count": 25,
     "metadata": {},
     "output_type": "execute_result"
    }
   ],
   "source": [
    "my_list=[[2,3,4],[3,4,5],[4,5,6]]\n",
    "[[e[i] ]for e in my_list for i in range(len(my_list))]"
   ]
  },
  {
   "cell_type": "code",
   "execution_count": 3,
   "metadata": {},
   "outputs": [
    {
     "data": {
      "text/plain": [
       "[[2], [3], [4], [3], [4], [5], [4], [5], [6]]"
      ]
     },
     "execution_count": 3,
     "metadata": {},
     "output_type": "execute_result"
    }
   ],
   "source": [
    "my_list=list(range(2,5))\n",
    "[[l+i] for l in my_list for i in range(3)]"
   ]
  },
  {
   "cell_type": "code",
   "execution_count": 5,
   "metadata": {},
   "outputs": [
    {
     "data": {
      "text/plain": [
       "[[2, 3, 4, 5], [3, 4, 5, 6], [4, 5, 6, 7], [5, 6, 7, 8]]"
      ]
     },
     "execution_count": 5,
     "metadata": {},
     "output_type": "execute_result"
    }
   ],
   "source": [
    "my_list=list(range(2,6))\n",
    "[[l,l+1,l+2,l+3] for l in my_list]"
   ]
  },
  {
   "cell_type": "code",
   "execution_count": 49,
   "metadata": {},
   "outputs": [
    {
     "data": {
      "text/plain": [
       "[(1, 1), (2, 1), (3, 1), (1, 2), (2, 2), (3, 2), (1, 3), (2, 3), (3, 3)]"
      ]
     },
     "execution_count": 49,
     "metadata": {},
     "output_type": "execute_result"
    }
   ],
   "source": [
    "[(y,x) for x in [1,2,3] for y in [1,2,3]]"
   ]
  },
  {
   "cell_type": "code",
   "execution_count": 3,
   "metadata": {},
   "outputs": [
    {
     "name": "stdout",
     "output_type": "stream",
     "text": [
      "The longest word is  America\n"
     ]
    }
   ],
   "source": [
    "def filter_long_words(li):\n",
    "    my_word=\"\"\n",
    "    for w in li:\n",
    "        if(len(w)>len(my_word)):\n",
    "            my_word=w\n",
    "    print(\"The longest word is \",my_word)\n",
    "    \n",
    "        \n",
    "my_list=[\"America\",\"India\",\"europe\",\"uk\"]\n",
    "filter_long_words(my_list)\n",
    "        "
   ]
  },
  {
   "cell_type": "code",
   "execution_count": 2,
   "metadata": {},
   "outputs": [
    {
     "name": "stdout",
     "output_type": "stream",
     "text": [
      "Enter side 1:3\n",
      "Enter side 2:4\n",
      "Enter side 3:5\n",
      "The area of the triangle is 6.00 \n"
     ]
    }
   ],
   "source": [
    "class Polygon:\n",
    "    def __init__(self,no_of_sides):\n",
    "        self.no_of_sides=no_of_sides\n",
    "        self.sides=[0 for i in range(no_of_sides)]\n",
    "    def inputsides(self):\n",
    "        self.sides=[int(input(\"Enter side \"+str(i+1)+\":\")) for i in range(self.no_of_sides)]\n",
    "        \n",
    "        \n",
    "class Triangle(Polygon):\n",
    "    def __init__(self,*args,**kwargs):\n",
    "        super(Triangle,self).__init__(*args,**kwargs)\n",
    "    def area(self):\n",
    "        a,b,c=self.sides\n",
    "        s=(a+b+c)/2\n",
    "        area=(s*(s-a)*(s-b)*(s-c))**0.5\n",
    "        print(\"The area of the triangle is %0.2f \"%area)\n",
    "t = Triangle(3)\n",
    "t.inputsides()\n",
    "t.area()"
   ]
  },
  {
   "cell_type": "code",
   "execution_count": 7,
   "metadata": {},
   "outputs": [
    {
     "data": {
      "text/plain": [
       "['Kangaroo', 'Elephant', 'Hippopotamus']"
      ]
     },
     "execution_count": 7,
     "metadata": {},
     "output_type": "execute_result"
    }
   ],
   "source": [
    " def filter_long_words(liwords,n):\n",
    "        new_liwords=[]\n",
    "        for word in liwords:\n",
    "            if len(word)>n:\n",
    "                new_liwords.append(word)\n",
    "        return new_liwords\n",
    "    \n",
    "li=['Bear','Kangaroo','Monkey','Cat','Sheep','Elephant','Hippopotamus']\n",
    "filter_long_words(li,6)"
   ]
  },
  {
   "cell_type": "code",
   "execution_count": 4,
   "metadata": {},
   "outputs": [
    {
     "data": {
      "text/plain": [
       "[2, 3, 4]"
      ]
     },
     "execution_count": 4,
     "metadata": {},
     "output_type": "execute_result"
    }
   ],
   "source": [
    "def convert_integers(li):\n",
    "    new_strlength=[]\n",
    "    for w in li:\n",
    "        new_strlength.append(len(w))\n",
    "    return new_strlength\n",
    "my_list=['ab','cde','erty']\n",
    "convert_integers(my_list)"
   ]
  },
  {
   "cell_type": "code",
   "execution_count": 9,
   "metadata": {},
   "outputs": [
    {
     "name": "stdout",
     "output_type": "stream",
     "text": [
      "True\n",
      "False\n",
      "True\n",
      "True\n"
     ]
    }
   ],
   "source": [
    "def check_vowel(c):\n",
    "    vowels='aeiou'\n",
    "    c=c.casefold();\n",
    "    if(c in vowels):\n",
    "        return True\n",
    "    else:\n",
    "        return False\n",
    "print(check_vowel('A'))\n",
    "print(check_vowel('b'))\n",
    "print(check_vowel('o'))\n",
    "print(check_vowel('U'))"
   ]
  }
 ],
 "metadata": {
  "kernelspec": {
   "display_name": "Python 3",
   "language": "python",
   "name": "python3"
  },
  "language_info": {
   "codemirror_mode": {
    "name": "ipython",
    "version": 3
   },
   "file_extension": ".py",
   "mimetype": "text/x-python",
   "name": "python",
   "nbconvert_exporter": "python",
   "pygments_lexer": "ipython3",
   "version": "3.6.5"
  }
 },
 "nbformat": 4,
 "nbformat_minor": 2
}
