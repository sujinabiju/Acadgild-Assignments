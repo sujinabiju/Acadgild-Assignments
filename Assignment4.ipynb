{
 "cells": [
  {
   "cell_type": "code",
   "execution_count": 20,
   "metadata": {},
   "outputs": [
    {
     "data": {
      "text/plain": [
       "[5.0,\n",
       " 4.666666666666667,\n",
       " 5.666666666666667,\n",
       " 6.666666666666667,\n",
       " 9.666666666666666,\n",
       " 28.666666666666668,\n",
       " 49.333333333333336,\n",
       " 72.66666666666667,\n",
       " 84.0,\n",
       " 93.33333333333333,\n",
       " 116.33333333333333]"
      ]
     },
     "execution_count": 20,
     "metadata": {},
     "output_type": "execute_result"
    }
   ],
   "source": [
    "def moving_average(li):\n",
    "    add=0\n",
    "    filter_array=[]\n",
    "    k=3\n",
    "    length=len(li)\n",
    "    w=length-k+1\n",
    "    i=3\n",
    "    for x in range(w):\n",
    "    \n",
    "        add=sum(li[x:i])\n",
    "        average=add/k\n",
    "        filter_array.append(average)\n",
    "        i+=1\n",
    "    return filter_array\n",
    "moving_average([3,5,7,2,8,10,11,65,72,81,99,100,150])\n",
    "    \n",
    "    "
   ]
  },
  {
   "cell_type": "code",
   "execution_count": 22,
   "metadata": {},
   "outputs": [
    {
     "data": {
      "text/html": [
       "<div>\n",
       "<style scoped>\n",
       "    .dataframe tbody tr th:only-of-type {\n",
       "        vertical-align: middle;\n",
       "    }\n",
       "\n",
       "    .dataframe tbody tr th {\n",
       "        vertical-align: top;\n",
       "    }\n",
       "\n",
       "    .dataframe thead th {\n",
       "        text-align: right;\n",
       "    }\n",
       "</style>\n",
       "<table border=\"1\" class=\"dataframe\">\n",
       "  <thead>\n",
       "    <tr style=\"text-align: right;\">\n",
       "      <th></th>\n",
       "      <th>X</th>\n",
       "      <th>Y</th>\n",
       "    </tr>\n",
       "  </thead>\n",
       "  <tbody>\n",
       "    <tr>\n",
       "      <th>0</th>\n",
       "      <td>7</td>\n",
       "      <td>0</td>\n",
       "    </tr>\n",
       "    <tr>\n",
       "      <th>1</th>\n",
       "      <td>2</td>\n",
       "      <td>1</td>\n",
       "    </tr>\n",
       "    <tr>\n",
       "      <th>2</th>\n",
       "      <td>0</td>\n",
       "      <td>0</td>\n",
       "    </tr>\n",
       "    <tr>\n",
       "      <th>3</th>\n",
       "      <td>3</td>\n",
       "      <td>1</td>\n",
       "    </tr>\n",
       "    <tr>\n",
       "      <th>4</th>\n",
       "      <td>4</td>\n",
       "      <td>2</td>\n",
       "    </tr>\n",
       "    <tr>\n",
       "      <th>5</th>\n",
       "      <td>2</td>\n",
       "      <td>3</td>\n",
       "    </tr>\n",
       "    <tr>\n",
       "      <th>6</th>\n",
       "      <td>5</td>\n",
       "      <td>4</td>\n",
       "    </tr>\n",
       "    <tr>\n",
       "      <th>7</th>\n",
       "      <td>0</td>\n",
       "      <td>0</td>\n",
       "    </tr>\n",
       "    <tr>\n",
       "      <th>8</th>\n",
       "      <td>3</td>\n",
       "      <td>1</td>\n",
       "    </tr>\n",
       "    <tr>\n",
       "      <th>9</th>\n",
       "      <td>4</td>\n",
       "      <td>2</td>\n",
       "    </tr>\n",
       "  </tbody>\n",
       "</table>\n",
       "</div>"
      ],
      "text/plain": [
       "   X  Y\n",
       "0  7  0\n",
       "1  2  1\n",
       "2  0  0\n",
       "3  3  1\n",
       "4  4  2\n",
       "5  2  3\n",
       "6  5  4\n",
       "7  0  0\n",
       "8  3  1\n",
       "9  4  2"
      ]
     },
     "execution_count": 22,
     "metadata": {},
     "output_type": "execute_result"
    }
   ],
   "source": [
    "import pandas as pd\n",
    "def funtocount(li):\n",
    "    new_li=[]\n",
    "    li_zero=[]\n",
    "    for i,num in enumerate(li):\n",
    "        if (num==0):\n",
    "            li_zero.append(i)\n",
    "    for i,num in enumerate(li):\n",
    "        if(i<li_zero[0]):\n",
    "            new_li.append(i)\n",
    "        elif(li_zero[0]<i<li_zero[1]):\n",
    "            new_li.append(i-li_zero[0])\n",
    "        elif(i>li_zero[1]):\n",
    "            new_li.append(i-li_zero[1])\n",
    "        else:\n",
    "            new_li.append(0)\n",
    "    return new_li\n",
    "    \n",
    "        \n",
    "  \n",
    "df =pd.DataFrame({'X':[7,2,0,3,4,2,5,0,3,4]})\n",
    "df['Y']=df.apply(funtocount)\n",
    "df"
   ]
  },
  {
   "cell_type": "code",
   "execution_count": 27,
   "metadata": {},
   "outputs": [
    {
     "data": {
      "text/plain": [
       "2015-01-01    0.297714\n",
       "2015-01-02    0.532924\n",
       "2015-01-05    0.491333\n",
       "2015-01-06    0.048296\n",
       "2015-01-07    0.161304\n",
       "2015-01-08    0.292188\n",
       "2015-01-09    0.530217\n",
       "2015-01-12    0.103667\n",
       "2015-01-13    0.710921\n",
       "2015-01-14    0.857567\n",
       "2015-01-15    0.220572\n",
       "2015-01-16    0.036994\n",
       "2015-01-19    0.416803\n",
       "2015-01-20    0.101578\n",
       "2015-01-21    0.421292\n",
       "2015-01-22    0.058214\n",
       "2015-01-23    0.851654\n",
       "2015-01-26    0.534244\n",
       "2015-01-27    0.711200\n",
       "2015-01-28    0.865754\n",
       "2015-01-29    0.634279\n",
       "2015-01-30    0.954483\n",
       "2015-02-02    0.435024\n",
       "2015-02-03    0.653594\n",
       "2015-02-04    0.337145\n",
       "2015-02-05    0.973502\n",
       "2015-02-06    0.152688\n",
       "2015-02-09    0.348146\n",
       "2015-02-10    0.060102\n",
       "2015-02-11    0.775530\n",
       "                ...   \n",
       "2015-11-20    0.193938\n",
       "2015-11-23    0.909212\n",
       "2015-11-24    0.801038\n",
       "2015-11-25    0.690092\n",
       "2015-11-26    0.800120\n",
       "2015-11-27    0.496797\n",
       "2015-11-30    0.618091\n",
       "2015-12-01    0.498621\n",
       "2015-12-02    0.431419\n",
       "2015-12-03    0.289199\n",
       "2015-12-04    0.394414\n",
       "2015-12-07    0.374432\n",
       "2015-12-08    0.392843\n",
       "2015-12-09    0.092728\n",
       "2015-12-10    0.680636\n",
       "2015-12-11    0.828017\n",
       "2015-12-14    0.693283\n",
       "2015-12-15    0.102269\n",
       "2015-12-16    0.472446\n",
       "2015-12-17    0.684976\n",
       "2015-12-18    0.453718\n",
       "2015-12-21    0.460834\n",
       "2015-12-22    0.682097\n",
       "2015-12-23    0.069450\n",
       "2015-12-24    0.398451\n",
       "2015-12-25    0.040485\n",
       "2015-12-28    0.433271\n",
       "2015-12-29    0.032699\n",
       "2015-12-30    0.162841\n",
       "2015-12-31    0.092379\n",
       "Freq: B, Length: 261, dtype: float64"
      ]
     },
     "execution_count": 27,
     "metadata": {},
     "output_type": "execute_result"
    }
   ],
   "source": [
    "import numpy as np\n",
    "daterange=pd.date_range('2015-01-01', '2015-12-31',freq='B')\n",
    "\n",
    "se=pd.Series(np.random.random(len(daterange)),index=daterange)\n",
    "se"
   ]
  },
  {
   "cell_type": "code",
   "execution_count": 28,
   "metadata": {
    "scrolled": true
   },
   "outputs": [
    {
     "data": {
      "text/plain": [
       "0.2977141799913864"
      ]
     },
     "execution_count": 28,
     "metadata": {},
     "output_type": "execute_result"
    }
   ],
   "source": [
    "se[se.index.weekday=='wednesday'].sum()"
   ]
  },
  {
   "cell_type": "code",
   "execution_count": 30,
   "metadata": {},
   "outputs": [
    {
     "data": {
      "text/plain": [
       "2015-01-31    0.446964\n",
       "2015-02-28    0.485038\n",
       "2015-03-31    0.420900\n",
       "2015-04-30    0.531755\n",
       "2015-05-31    0.489013\n",
       "2015-06-30    0.419414\n",
       "2015-07-31    0.722631\n",
       "2015-08-31    0.577129\n",
       "2015-09-30    0.420364\n",
       "2015-10-31    0.545304\n",
       "2015-11-30    0.566642\n",
       "2015-12-31    0.380935\n",
       "Freq: M, dtype: float64"
      ]
     },
     "execution_count": 30,
     "metadata": {},
     "output_type": "execute_result"
    }
   ],
   "source": [
    "se.resample('M').mean()\n"
   ]
  },
  {
   "cell_type": "code",
   "execution_count": 38,
   "metadata": {},
   "outputs": [
    {
     "data": {
      "text/plain": [
       "2015-01-31   2015-01-30\n",
       "2015-05-31   2015-05-20\n",
       "2015-09-30   2015-07-10\n",
       "2016-01-31   2015-10-01\n",
       "dtype: datetime64[ns]"
      ]
     },
     "execution_count": 38,
     "metadata": {},
     "output_type": "execute_result"
    }
   ],
   "source": [
    "from pandas.core.resample  import TimeGrouper\n",
    "se.groupby(TimeGrouper(freq='4M')).idxmax()"
   ]
  },
  {
   "cell_type": "code",
   "execution_count": null,
   "metadata": {},
   "outputs": [],
   "source": []
  }
 ],
 "metadata": {
  "kernelspec": {
   "display_name": "Python 3",
   "language": "python",
   "name": "python3"
  },
  "language_info": {
   "codemirror_mode": {
    "name": "ipython",
    "version": 3
   },
   "file_extension": ".py",
   "mimetype": "text/x-python",
   "name": "python",
   "nbconvert_exporter": "python",
   "pygments_lexer": "ipython3",
   "version": "3.6.5"
  }
 },
 "nbformat": 4,
 "nbformat_minor": 2
}
